{
 "cells": [
  {
   "cell_type": "code",
   "execution_count": 5,
   "metadata": {},
   "outputs": [
    {
     "name": "stdout",
     "output_type": "stream",
     "text": [
      "give the number of terms5\n",
      "3 2 1 1 0 "
     ]
    }
   ],
   "source": [
    "#1.reverse fibonacci\n",
    "def reverseFibonacci(n):\n",
    "    a = [0] * n      \n",
    "    a[0] = 0 \n",
    "    a[1] = 1   \n",
    "    for i in range(2, n):           \n",
    "        a[i] = a[i - 2] + a[i - 1]    \n",
    "    for i in range(n - 1, -1 , -1):                     \n",
    "        print(a[i],end=\" \")              \n",
    "n=int(input(\"give the number of terms\"))  \n",
    "reverseFibonacci(n)"
   ]
  },
  {
   "cell_type": "code",
   "execution_count": 27,
   "metadata": {},
   "outputs": [
    {
     "name": "stdout",
     "output_type": "stream",
     "text": [
      "['2', '1', '3', '4', '5', '6']\n"
     ]
    },
    {
     "data": {
      "text/plain": [
       "21"
      ]
     },
     "execution_count": 27,
     "metadata": {},
     "output_type": "execute_result"
    }
   ],
   "source": [
    "#2\n",
    "def number(n,s):\n",
    "    ns=list(s)\n",
    "    sum=0\n",
    "    co=0\n",
    "    print(ns)\n",
    "    for i in range(n):\n",
    "        count=ns.count(ns[i])\n",
    "        if count==1:\n",
    "            sum=sum+int(ns[i])\n",
    "        elif count>=2:\n",
    "            co=co+1          \n",
    "    if co==len(ns):\n",
    "        print(\"-1\")\n",
    "    return sum\n",
    "s=\"213456\"\n",
    "number(6,s)"
   ]
  },
  {
   "cell_type": "code",
   "execution_count": 39,
   "metadata": {},
   "outputs": [
    {
     "name": "stdout",
     "output_type": "stream",
     "text": [
      "g k\n",
      "i k\n",
      "o r\n"
     ]
    },
    {
     "ename": "IndexError",
     "evalue": "string index out of range",
     "output_type": "error",
     "traceback": [
      "\u001b[1;31m---------------------------------------------------------------------------\u001b[0m",
      "\u001b[1;31mIndexError\u001b[0m                                Traceback (most recent call last)",
      "\u001b[1;32m<ipython-input-39-26e10282628c>\u001b[0m in \u001b[0;36m<module>\u001b[1;34m\u001b[0m\n\u001b[0;32m      4\u001b[0m     \u001b[1;32mfor\u001b[0m \u001b[0mi\u001b[0m \u001b[1;32min\u001b[0m \u001b[0mrange\u001b[0m\u001b[1;33m(\u001b[0m\u001b[0mlen\u001b[0m\u001b[1;33m(\u001b[0m\u001b[0ms1\u001b[0m\u001b[1;33m)\u001b[0m\u001b[1;33m)\u001b[0m\u001b[1;33m:\u001b[0m\u001b[1;33m\u001b[0m\u001b[1;33m\u001b[0m\u001b[0m\n\u001b[0;32m      5\u001b[0m             \u001b[1;32mif\u001b[0m \u001b[0mi\u001b[0m\u001b[1;33m<\u001b[0m\u001b[0mlen\u001b[0m\u001b[1;33m(\u001b[0m\u001b[0ms1\u001b[0m\u001b[1;33m)\u001b[0m\u001b[1;33m-\u001b[0m\u001b[1;36m1\u001b[0m\u001b[1;33m:\u001b[0m\u001b[1;33m\u001b[0m\u001b[1;33m\u001b[0m\u001b[0m\n\u001b[1;32m----> 6\u001b[1;33m                 \u001b[0mprint\u001b[0m\u001b[1;33m(\u001b[0m\u001b[0ms1\u001b[0m\u001b[1;33m[\u001b[0m\u001b[0mi\u001b[0m\u001b[1;33m]\u001b[0m\u001b[1;33m,\u001b[0m\u001b[0ms2\u001b[0m\u001b[1;33m[\u001b[0m\u001b[0mi\u001b[0m\u001b[1;33m]\u001b[0m\u001b[1;33m)\u001b[0m\u001b[1;33m\u001b[0m\u001b[1;33m\u001b[0m\u001b[0m\n\u001b[0m\u001b[0;32m      7\u001b[0m             \u001b[1;32melse\u001b[0m\u001b[1;33m:\u001b[0m\u001b[1;33m\u001b[0m\u001b[1;33m\u001b[0m\u001b[0m\n\u001b[0;32m      8\u001b[0m                 \u001b[0mprint\u001b[0m\u001b[1;33m(\u001b[0m\u001b[0ms1\u001b[0m\u001b[1;33m[\u001b[0m\u001b[0mi\u001b[0m\u001b[1;33m]\u001b[0m\u001b[1;33m,\u001b[0m\u001b[1;34m\"*\"\u001b[0m\u001b[1;33m)\u001b[0m\u001b[1;33m\u001b[0m\u001b[1;33m\u001b[0m\u001b[0m\n",
      "\u001b[1;31mIndexError\u001b[0m: string index out of range"
     ]
    }
   ],
   "source": [
    "s1=\"gione\"\n",
    "s2=\"kkr\"\n",
    "if len(s1)>len(s2):\n",
    "    for i in range(len(s1)):\n",
    "            if i<len(s1)-1:\n",
    "                print(s1[i],s2[i])\n",
    "            else:\n",
    "                print(s1[i],\"*\")            \n",
    "elif len(s2)>len(s1):\n",
    "    for i in range(len(s2)):\n",
    "        if i>len(s1):\n",
    "                print(\"*\",s2[i])\n",
    "        else:\n",
    "            print(s1[i],s2[i])   "
   ]
  },
  {
   "cell_type": "code",
   "execution_count": 41,
   "metadata": {},
   "outputs": [
    {
     "name": "stdout",
     "output_type": "stream",
     "text": [
      "TESTING"
     ]
    }
   ],
   "source": [
    "#5\n",
    "def wordUpperCase(s):\n",
    "   spaceCnt = 0\n",
    "   for x in range(len(s)):\n",
    "       if ord(s[x]) == 32:\n",
    "           spaceCnt += 1\n",
    "       if spaceCnt == 1:\n",
    "           if ord(s[x]) >= 65 and ord(s[x]) <= 90:\n",
    "               print(s[x],end=\"\")\n",
    "           elif ord(s[x]) >= 97 and ord(s[x]) <= 122:\n",
    "               print(chr(ord(s[x])-32),end=\"\")\n",
    "       if spaceCnt == 2:\n",
    "           break\n",
    "   return\n",
    "wordUpperCase('application Testing')  "
   ]
  },
  {
   "cell_type": "code",
   "execution_count": 42,
   "metadata": {},
   "outputs": [
    {
     "name": "stdout",
     "output_type": "stream",
     "text": [
      "1\n",
      "3\n",
      "9\n",
      "27\n",
      "81\n",
      "243\n"
     ]
    }
   ],
   "source": [
    "#10\n",
    "def threepower(n):\n",
    "    for i in range(n):\n",
    "        k=3**i\n",
    "        print(k)\n",
    "    return\n",
    "threepower(6)"
   ]
  },
  {
   "cell_type": "code",
   "execution_count": 43,
   "metadata": {},
   "outputs": [
    {
     "name": "stdout",
     "output_type": "stream",
     "text": [
      "1\n",
      "2\n",
      "4\n",
      "8\n",
      "16\n",
      "32\n",
      "64\n",
      "128\n",
      "256\n",
      "512\n"
     ]
    }
   ],
   "source": [
    "#11\n",
    "def twopower(n):\n",
    "    for i in range(n):\n",
    "        k=2**i\n",
    "        print(k)\n",
    "    return\n",
    "twopower(10)"
   ]
  },
  {
   "cell_type": "code",
   "execution_count": 46,
   "metadata": {},
   "outputs": [
    {
     "name": "stdout",
     "output_type": "stream",
     "text": [
      "1!+2!+3!+4!+5!+6!+7!+8!+9!+"
     ]
    }
   ],
   "source": [
    "#14\n",
    "def sum(n):\n",
    "    for i in range(1,n+1):\n",
    "        fact=1\n",
    "        if i<=n:\n",
    "            print(i,end=\"!+\")\n",
    "    return \n",
    "sum(9)"
   ]
  },
  {
   "cell_type": "code",
   "execution_count": null,
   "metadata": {},
   "outputs": [],
   "source": []
  }
 ],
 "metadata": {
  "kernelspec": {
   "display_name": "Python 3",
   "language": "python",
   "name": "python3"
  },
  "language_info": {
   "codemirror_mode": {
    "name": "ipython",
    "version": 3
   },
   "file_extension": ".py",
   "mimetype": "text/x-python",
   "name": "python",
   "nbconvert_exporter": "python",
   "pygments_lexer": "ipython3",
   "version": "3.7.3"
  }
 },
 "nbformat": 4,
 "nbformat_minor": 2
}
